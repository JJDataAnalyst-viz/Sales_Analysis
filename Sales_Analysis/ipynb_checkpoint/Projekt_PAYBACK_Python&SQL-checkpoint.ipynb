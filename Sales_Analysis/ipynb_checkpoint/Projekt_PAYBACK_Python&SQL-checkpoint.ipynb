{
 "cells": [
  {
   "cell_type": "code",
   "execution_count": 1,
   "id": "db886fb9-a13e-49fb-8006-83bc9d41a17a",
   "metadata": {},
   "outputs": [],
   "source": [
    "import pandas as pd\n",
    "import numpy as np\n",
    "from pandas.plotting import scatter_matrix"
   ]
  },
  {
   "cell_type": "markdown",
   "id": "58cda716-c6c3-4f6c-b29a-1d1f4599ee35",
   "metadata": {},
   "source": [
    "Poniżej przedstawiam kod SQL oraz kod z Pythona "
   ]
  },
  {
   "cell_type": "markdown",
   "id": "56880650-2bd4-432e-bb18-a13eadb25236",
   "metadata": {},
   "source": [
    "Kod z Microsoft SQL\n",
    "\n",
    "\n",
    "```sql\n",
    "USE transactions;\n",
    "\n",
    "/* Prostsza wersja dla małej ilości partner_id 1)\n",
    "SELECT DISTINCT COUNT(CUSTOMER_ID) FROM TRANSACTION_DATA_SAMPLE WHERE PARTNER_ID = 1\n",
    "SELECT DISTINCT COUNT(CUSTOMER_ID) FROM TRANSACTION_DATA_SAMPLE WHERE PARTNER_ID = 2\n",
    "SELECT DISTINCT COUNT(CUSTOMER_ID) FROM TRANSACTION_DATA_SAMPLE WHERE PARTNER_ID = 3\n",
    "SELECT DISTINCT COUNT(CUSTOMER_ID) FROM TRANSACTION_DATA_SAMPLE WHERE PARTNER_ID = 4\n",
    "*/\n",
    "--1) 1) Dla 1 zadania Partner_ID 1 = 947 Partner_ID 2 = 1996 Partner_ID 3 = 2001 Partner_ID 4 = 6429\n",
    "SELECT 'Partner_1',COUNT(DISTINCT CUSTOMER_ID)AS PARTNER_1 FROM TRANSACTION_DATA_SAMPLE WHERE PARTNER_ID = 1\n",
    "UNION ALL\n",
    "SELECT 'Partner_2', COUNT(DISTINCT CUSTOMER_ID)AS PARTNER_2 FROM TRANSACTION_DATA_SAMPLE WHERE PARTNER_ID = 2\n",
    "UNION ALL\n",
    "SELECT 'Partner_3', COUNT(DISTINCT CUSTOMER_ID)AS PARTNER_3 FROM TRANSACTION_DATA_SAMPLE WHERE PARTNER_ID = 3\n",
    "UNION ALL\n",
    "SELECT 'Partner_4', COUNT(DISTINCT CUSTOMER_ID)AS PARTNER_4 FROM TRANSACTION_DATA_SAMPLE WHERE PARTNER_ID = 4;\n",
    "\n",
    "-- 2) Łączna ilość punktów wynosi 80466 \n",
    "\n",
    "SELECT SUM(POINTS) as  Total_points FROM TRANSACTION_DATA_SAMPLE WHERE CONVERT(DATE, TRANSACTION_DATE,104)  BETWEEN '2022-05-01' AND '2022-05-15';\n",
    "\n",
    "-- 3) daty pierwszych transakcji dla SHOP_ID\n",
    "SELECT MIN(FORMAT(TRANSACTION_DATE,'yyyy-MM-dd HH:mm:ss')) as First_trans,SHOP_ID  FROM TRANSACTION_DATA_SAMPLE \n",
    "GROUP BY SHOP_ID;\n",
    "\n",
    "--4) Ilość transkacji dla:\n",
    "/*przedział obrotu 0-99.99 = 15396\n",
    "  przedział obrotu 100-199.99 = 2612\n",
    "  przedział obrotu 200-powyżej = 5024\n",
    "*/\n",
    "SELECT TURNOVER FROM TRANSACTION_DATA_SAMPLE;\n",
    "SELECT SUM(IIF(TURNOVER<=99.99,1,0)) AS Turnover_below_99, SUM(IIF(TURNOVER>=100 AND TURNOVER <= 199.99,1,0)) AS Turnover_between, SUM(IIF(TURNOVER>=200,1,0)) AS Turnover_above_200 FROM TRANSACTION_DATA_SAMPLE;\n",
    "\n",
    "--5) 3912 rows affected \n",
    "UPDATE TRANSACTION_DATA_SAMPLE SET PARTNER_ID = 4 WHERE PARTNER_ID = 2;\n",
    "SELECT * FROM TRANSACTION_DATA_SAMPLE WHERE PARTNER_ID = 2; -- 0 results\n",
    "\n",
    "\n",
    "--6) województwa piszemy z małej litery \n",
    "SELECT TRANSACTION_ID,PARTNER_ID,TRANSACTION_DATE,CUSTOMER_ID,POINTS,TURNOVER, LOWER(VOIVODESHIP) AS VOIVODESHIP,TRANSACTION_DATA_SAMPLE.SHOP_ID FROM TRANSACTION_DATA_SAMPLE JOIN VOIVODESHIP ON VOIVODESHIP.SHOP_ID = TRANSACTION_DATA_SAMPLE.SHOP_ID;\n",
    "\n",
    "```"
   ]
  },
  {
   "cell_type": "code",
   "execution_count": 2,
   "id": "b0f1a483-596e-4642-a1b7-ddcb405b8c08",
   "metadata": {},
   "outputs": [],
   "source": [
    "#Załadowanie plików csv do pythona\n",
    "csv_path = \"TRANSACTION_DATA_SAMPLE.csv\""
   ]
  },
  {
   "cell_type": "code",
   "execution_count": 3,
   "id": "3ddd2090-6532-4463-bd9f-63cae44af463",
   "metadata": {},
   "outputs": [],
   "source": [
    "csv_path_voiv = \"VOIVODESHIP.csv\""
   ]
  },
  {
   "cell_type": "code",
   "execution_count": 4,
   "id": "8d1faee5-ab30-46b0-9d94-fa62ffa35193",
   "metadata": {},
   "outputs": [],
   "source": [
    "transactions = pd.read_csv(csv_path,sep=\",\")"
   ]
  },
  {
   "cell_type": "code",
   "execution_count": 5,
   "id": "39671d2f-920b-41cd-9e8e-d6078707d0be",
   "metadata": {},
   "outputs": [],
   "source": [
    "voivodeship = pd.read_csv(csv_path_voiv,sep=\",\")"
   ]
  },
  {
   "cell_type": "code",
   "execution_count": 60,
   "id": "7ba7f75c-1933-411c-91a1-bc13beb19236",
   "metadata": {},
   "outputs": [],
   "source": [
    "#Zadanie --1)\n",
    "transactions_first = transactions['CUSTOMER_ID'].groupby(transactions['PARTNER_ID'])"
   ]
  },
  {
   "cell_type": "code",
   "execution_count": 61,
   "id": "32481fd8-03a8-4f4d-8b9b-fd4f5d150011",
   "metadata": {},
   "outputs": [],
   "source": [
    "transactions_first = transactions.groupby('PARTNER_ID')['CUSTOMER_ID'].nunique()"
   ]
  },
  {
   "cell_type": "code",
   "execution_count": 62,
   "id": "f849d48d-29b3-4c01-b83f-9464cf21c3d1",
   "metadata": {},
   "outputs": [
    {
     "data": {
      "text/plain": [
       "PARTNER_ID\n",
       "1     947\n",
       "2    1996\n",
       "3    2001\n",
       "4    6429\n",
       "Name: CUSTOMER_ID, dtype: int64"
      ]
     },
     "execution_count": 62,
     "metadata": {},
     "output_type": "execute_result"
    }
   ],
   "source": [
    "transactions_first"
   ]
  },
  {
   "cell_type": "markdown",
   "id": "10e8ca33-6012-476f-b09d-4090466b9b13",
   "metadata": {},
   "source": [
    "1) \n",
    "Dla 1 zadania \n",
    "Partner_ID 1 = 947\n",
    "Partner_ID 2 = 1996\n",
    "Partner_ID 3 = 2001\n",
    "Partner_ID 4 = 6429"
   ]
  },
  {
   "cell_type": "code",
   "execution_count": 136,
   "id": "c548bcc8-3449-4480-a554-1ce7b64e707a",
   "metadata": {},
   "outputs": [],
   "source": [
    "#Zadanie --3)\n",
    "transactions_third = transactions.groupby('SHOP_ID')['TRANSACTION_DATE'].min()"
   ]
  },
  {
   "cell_type": "code",
   "execution_count": 141,
   "id": "4379c090-0b52-409e-895e-7b6f548cf58e",
   "metadata": {},
   "outputs": [
    {
     "data": {
      "text/plain": [
       "SHOP_ID\n",
       "1023    2021-01-07 21:59:00\n",
       "12771   2021-08-12 09:38:11\n",
       "12772   2021-02-12 23:13:05\n",
       "12773   2021-01-10 16:19:55\n",
       "12774   2021-02-10 18:23:16\n",
       "                ...        \n",
       "19962   2022-01-13 00:00:00\n",
       "19967   2021-03-08 00:00:00\n",
       "19970   2021-03-11 00:00:00\n",
       "19971   2021-10-12 00:00:00\n",
       "19998   2022-01-02 09:20:00\n",
       "Name: TRANSACTION_DATE, Length: 189, dtype: datetime64[ns]"
      ]
     },
     "execution_count": 141,
     "metadata": {},
     "output_type": "execute_result"
    }
   ],
   "source": [
    "transactions_third"
   ]
  },
  {
   "cell_type": "code",
   "execution_count": 171,
   "id": "3cac0adb-be55-4ecb-95c0-7ed4e09e2726",
   "metadata": {},
   "outputs": [],
   "source": [
    "# Zadanie --4)\n",
    "turnover_below = []\n",
    "turnover_between = []\n",
    "turnover_above = []\n",
    "\n",
    "for i in transactions['TURNOVER']:\n",
    "    if 0 <= i <= 99.99:\n",
    "        turnover_below.append(i)\n",
    "    elif 100 <= i <= 199.99:\n",
    "        turnover_between.append(i)\n",
    "    else:\n",
    "        turnover_above.append(i)"
   ]
  },
  {
   "cell_type": "code",
   "execution_count": 174,
   "id": "88ab7fcb-a629-40f5-8d8b-7a938c76a661",
   "metadata": {},
   "outputs": [
    {
     "name": "stdout",
     "output_type": "stream",
     "text": [
      "15396\n",
      "2612\n",
      "5024\n"
     ]
    }
   ],
   "source": [
    "print(len(turnover_below))\n",
    "print(len(turnover_between))\n",
    "print(len(turnover_above))"
   ]
  },
  {
   "cell_type": "code",
   "execution_count": 193,
   "id": "4a098b8d-1ded-4e76-91f2-edb7af7453d4",
   "metadata": {},
   "outputs": [],
   "source": [
    "#Zadanie --5)\n",
    "transactions_fifth = transactions['PARTNER_ID'].replace(2,4)"
   ]
  },
  {
   "cell_type": "code",
   "execution_count": 200,
   "id": "d67bb0f4-8cd4-426c-9e0c-59ccae319a23",
   "metadata": {},
   "outputs": [
    {
     "data": {
      "text/plain": [
       "False"
      ]
     },
     "execution_count": 200,
     "metadata": {},
     "output_type": "execute_result"
    }
   ],
   "source": [
    "transactions_fifth['PARTNER_ID'] == 2"
   ]
  },
  {
   "cell_type": "code",
   "execution_count": 11,
   "id": "ebe6431f-3544-45ed-8cdd-2b1d0bfa43ac",
   "metadata": {},
   "outputs": [],
   "source": [
    "#Zadanie --6)\n",
    "transactions_sixth = pd.merge(voivodeship,transactions, on=\"SHOP_ID\")"
   ]
  },
  {
   "cell_type": "code",
   "execution_count": 18,
   "id": "ffbb8103-21d1-44ec-bfaa-79ecbc2db338",
   "metadata": {},
   "outputs": [],
   "source": [
    "transactions_sixth['VOIVODESHIP'] = transactions_sixth['VOIVODESHIP'].str.lower()"
   ]
  },
  {
   "cell_type": "code",
   "execution_count": 19,
   "id": "f13db5b1-cff7-4a12-903a-eede71b9fc4f",
   "metadata": {},
   "outputs": [
    {
     "data": {
      "text/html": [
       "<div>\n",
       "<style scoped>\n",
       "    .dataframe tbody tr th:only-of-type {\n",
       "        vertical-align: middle;\n",
       "    }\n",
       "\n",
       "    .dataframe tbody tr th {\n",
       "        vertical-align: top;\n",
       "    }\n",
       "\n",
       "    .dataframe thead th {\n",
       "        text-align: right;\n",
       "    }\n",
       "</style>\n",
       "<table border=\"1\" class=\"dataframe\">\n",
       "  <thead>\n",
       "    <tr style=\"text-align: right;\">\n",
       "      <th></th>\n",
       "      <th>SHOP_ID</th>\n",
       "      <th>VOIVODESHIP</th>\n",
       "      <th>TRANSACTION_ID</th>\n",
       "      <th>PARTNER_ID</th>\n",
       "      <th>TRANSACTION_DATE</th>\n",
       "      <th>CUSTOMER_ID</th>\n",
       "      <th>POINTS</th>\n",
       "      <th>TURNOVER</th>\n",
       "    </tr>\n",
       "  </thead>\n",
       "  <tbody>\n",
       "    <tr>\n",
       "      <th>23027</th>\n",
       "      <td>12775</td>\n",
       "      <td>podkarpackie</td>\n",
       "      <td>3054321052904992440</td>\n",
       "      <td>2</td>\n",
       "      <td>29.11.2021 15:22:43</td>\n",
       "      <td>49646</td>\n",
       "      <td>40</td>\n",
       "      <td>119.31</td>\n",
       "    </tr>\n",
       "    <tr>\n",
       "      <th>23028</th>\n",
       "      <td>12775</td>\n",
       "      <td>podkarpackie</td>\n",
       "      <td>9050321051250322431</td>\n",
       "      <td>2</td>\n",
       "      <td>12.11.2021 21:07:03</td>\n",
       "      <td>503156</td>\n",
       "      <td>32</td>\n",
       "      <td>96.03</td>\n",
       "    </tr>\n",
       "    <tr>\n",
       "      <th>23029</th>\n",
       "      <td>12875</td>\n",
       "      <td>małopolskie</td>\n",
       "      <td>6074721072572442845</td>\n",
       "      <td>2</td>\n",
       "      <td>25.01.2022 18:52:47</td>\n",
       "      <td>724489</td>\n",
       "      <td>15</td>\n",
       "      <td>43.65</td>\n",
       "    </tr>\n",
       "    <tr>\n",
       "      <th>23030</th>\n",
       "      <td>12875</td>\n",
       "      <td>małopolskie</td>\n",
       "      <td>10075921071315842653</td>\n",
       "      <td>2</td>\n",
       "      <td>13.01.2022 22:19:59</td>\n",
       "      <td>158417</td>\n",
       "      <td>67</td>\n",
       "      <td>200.79</td>\n",
       "    </tr>\n",
       "    <tr>\n",
       "      <th>23031</th>\n",
       "      <td>12875</td>\n",
       "      <td>małopolskie</td>\n",
       "      <td>8071221072121832107</td>\n",
       "      <td>2</td>\n",
       "      <td>21.01.2022 20:27:12</td>\n",
       "      <td>218921</td>\n",
       "      <td>32</td>\n",
       "      <td>96.03</td>\n",
       "    </tr>\n",
       "  </tbody>\n",
       "</table>\n",
       "</div>"
      ],
      "text/plain": [
       "       SHOP_ID   VOIVODESHIP        TRANSACTION_ID  PARTNER_ID  \\\n",
       "23027    12775  podkarpackie   3054321052904992440           2   \n",
       "23028    12775  podkarpackie   9050321051250322431           2   \n",
       "23029    12875   małopolskie   6074721072572442845           2   \n",
       "23030    12875   małopolskie  10075921071315842653           2   \n",
       "23031    12875   małopolskie   8071221072121832107           2   \n",
       "\n",
       "          TRANSACTION_DATE  CUSTOMER_ID  POINTS  TURNOVER  \n",
       "23027  29.11.2021 15:22:43        49646      40    119.31  \n",
       "23028  12.11.2021 21:07:03       503156      32     96.03  \n",
       "23029  25.01.2022 18:52:47       724489      15     43.65  \n",
       "23030  13.01.2022 22:19:59       158417      67    200.79  \n",
       "23031  21.01.2022 20:27:12       218921      32     96.03  "
      ]
     },
     "execution_count": 19,
     "metadata": {},
     "output_type": "execute_result"
    }
   ],
   "source": [
    "transactions_sixth.tail(5)"
   ]
  },
  {
   "cell_type": "code",
   "execution_count": null,
   "id": "940f6832-823d-4057-b2fc-1694ef8cac9e",
   "metadata": {},
   "outputs": [],
   "source": [
    "transactions_sixth.describe()"
   ]
  }
 ],
 "metadata": {
  "kernelspec": {
   "display_name": "Python 3 (ipykernel)",
   "language": "python",
   "name": "python3"
  },
  "language_info": {
   "codemirror_mode": {
    "name": "ipython",
    "version": 3
   },
   "file_extension": ".py",
   "mimetype": "text/x-python",
   "name": "python",
   "nbconvert_exporter": "python",
   "pygments_lexer": "ipython3",
   "version": "3.12.1"
  }
 },
 "nbformat": 4,
 "nbformat_minor": 5
}
